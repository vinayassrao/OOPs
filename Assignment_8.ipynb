{
  "nbformat": 4,
  "nbformat_minor": 0,
  "metadata": {
    "colab": {
      "provenance": []
    },
    "kernelspec": {
      "name": "python3",
      "display_name": "Python 3"
    },
    "language_info": {
      "name": "python"
    }
  },
  "cells": [
    {
      "cell_type": "code",
      "execution_count": null,
      "metadata": {
        "id": "74DPRL3F2wNb"
      },
      "outputs": [],
      "source": [
        "#1 What are the five key concepts of Object-Oriented Programming (OOP)?\n",
        "\n",
        "'''\n",
        "-Ans: The five key concepts of Object-Oriented Programming (OOP) are:\n",
        "      Encapsulation: Wrapping of data and methods into a single unit (class) and restricting access to the internal details.\n",
        "      Abstraction: Hiding complex details and showing only essential features of an object.\n",
        "      Inheritance: Creating new classes from existing ones to promote code reuse.\n",
        "      Polymorphism: The ability to take multiple forms. In Python, this is mainly achieved through method overriding and method overloading.\n",
        "      Association: Defines the relationship between classes, enabling classes to use each other without being dependent on each other.\n",
        "'''"
      ]
    },
    {
      "cell_type": "code",
      "source": [
        "#2 Write a Python class for a Car with attributes for make, model, and year. Include a method to display the car's information.\n",
        "class Car:\n",
        "    def __init__(self, make, model, year):\n",
        "        self.make = make\n",
        "        self.model = model\n",
        "        self.year = year\n",
        "\n",
        "    def display_info(self):\n",
        "        print(f\"Car Make: {self.make}, Model: {self.model}, Year: {self.year}\")\n",
        "\n",
        "\n",
        "car = Car(\"Toyota\", \"Camry\", 2020)\n",
        "car.display_info()\n"
      ],
      "metadata": {
        "colab": {
          "base_uri": "https://localhost:8080/"
        },
        "id": "kbNAVlJT4Esp",
        "outputId": "ce10c230-ec04-4a82-cd38-e47b34353dfc"
      },
      "execution_count": 2,
      "outputs": [
        {
          "output_type": "stream",
          "name": "stdout",
          "text": [
            "Car Make: Toyota, Model: Camry, Year: 2020\n"
          ]
        }
      ]
    },
    {
      "cell_type": "code",
      "source": [
        "#3 Explain the difference between instance methods and class methods. Provide an example of each.\n",
        "\n",
        "'''\n",
        "-Ans:\n",
        "      Instance Methods: Operate on instances of a class and can access instance attributes. Defined with self as the first parameter.\n",
        "      Class Methods: Operate on the class itself and can't modify instance attributes. Defined with cls as the first parameter and use the @classmethod decorator.\n",
        "'''\n",
        "class Example:\n",
        "    def __init__(self, value):\n",
        "        self.value = value\n",
        "\n",
        "    def instance_method(self):  # Instance method\n",
        "        print(f\"Instance value: {self.value}\")\n",
        "\n",
        "    @classmethod\n",
        "    def class_method(cls):  # Class method\n",
        "        print(\"This is a class method\")\n",
        "\n",
        "\n",
        "e = Example(10)\n",
        "e.instance_method()\n",
        "Example.class_method()\n"
      ],
      "metadata": {
        "colab": {
          "base_uri": "https://localhost:8080/"
        },
        "id": "BKKKXNJA4FpF",
        "outputId": "a3e7524c-0645-43a2-f753-ad06ad86263f"
      },
      "execution_count": 4,
      "outputs": [
        {
          "output_type": "stream",
          "name": "stdout",
          "text": [
            "Instance value: 10\n",
            "This is a class method\n"
          ]
        }
      ]
    },
    {
      "cell_type": "code",
      "source": [
        "#4 How does Python implement method overloading? Give an example.\n",
        "\n",
        "'''\n",
        "-Ans:\n",
        "       Python does not natively support method overloading in the way other languages do.\n",
        "       Instead, it allows for default arguments, or can check the types and arguments inside the method to simulate overloading.\n",
        "'''\n",
        "class Math:\n",
        "    def add(self, a, b, c=0):\n",
        "        return a + b + c\n",
        "\n",
        "\n",
        "math = Math()\n",
        "print(math.add(2, 3))\n",
        "print(math.add(2, 3, 4))\n"
      ],
      "metadata": {
        "colab": {
          "base_uri": "https://localhost:8080/"
        },
        "id": "AyGZeSPL4WyN",
        "outputId": "e095b339-5446-45a3-ed7f-4c9605701f8b"
      },
      "execution_count": 5,
      "outputs": [
        {
          "output_type": "stream",
          "name": "stdout",
          "text": [
            "5\n",
            "9\n"
          ]
        }
      ]
    },
    {
      "cell_type": "code",
      "source": [
        "#5 What are the three types of access modifiers in Python? How are they denoted?\n",
        "\n",
        "'''\n",
        "-Ans:\n",
        "      Public: No underscore prefix. Accessible anywhere.\n",
        "      Protected: Single underscore prefix _. Suggests that it should not be accessed outside the class.\n",
        "      Private: Double underscore prefix __. Name mangling prevents direct access from outside the class.\n",
        "'''"
      ],
      "metadata": {
        "id": "7mcdH3hG4oty"
      },
      "execution_count": null,
      "outputs": []
    },
    {
      "cell_type": "code",
      "source": [
        "#6 Describe the five types of inheritance in Python. Provide a simple example of multiple inheritance.\n",
        "\n",
        "'''\n",
        "-Ans:\n",
        "      Single Inheritance: One class inherits from a single base class.\n",
        "      Multiple Inheritance: One class inherits from multiple base classes.\n",
        "      Multilevel Inheritance: A class inherits from a class, which in turn inherits from another class.\n",
        "      Hierarchical Inheritance: Multiple classes inherit from the same base class.\n",
        "      Hybrid Inheritance: A combination of two or more types of inheritance.\n",
        "'''\n",
        "class A:\n",
        "    def method_a(self):\n",
        "        print(\"Method from Class A\")\n",
        "\n",
        "class B:\n",
        "    def method_b(self):\n",
        "        print(\"Method from Class B\")\n",
        "\n",
        "class C(A, B):  # Multiple inheritance\n",
        "    pass\n",
        "\n",
        "\n",
        "c = C()\n",
        "c.method_a()\n",
        "c.method_b()\n"
      ],
      "metadata": {
        "colab": {
          "base_uri": "https://localhost:8080/"
        },
        "id": "dN_UfIxE4vbJ",
        "outputId": "430dca89-1645-44e9-b47f-27197d314aed"
      },
      "execution_count": 6,
      "outputs": [
        {
          "output_type": "stream",
          "name": "stdout",
          "text": [
            "Method from Class A\n",
            "Method from Class B\n"
          ]
        }
      ]
    },
    {
      "cell_type": "code",
      "source": [
        "#7 What is the Method Resolution Order (MRO) in Python? How can you retrieve it programmatically?\n",
        "\n",
        "'''\n",
        "-Ans:\n",
        "      MRO is the order in which Python looks for a method in a hierarchy of classes, especially with multiple inheritance. It uses the C3 linearization algorithm.\n",
        "      You can retrieve the MRO using the __mro__ attribute or the mro() method.\n",
        "'''\n",
        "class A: pass\n",
        "class B(A): pass\n",
        "class C(B): pass\n",
        "\n",
        "print(C.__mro__)\n"
      ],
      "metadata": {
        "colab": {
          "base_uri": "https://localhost:8080/"
        },
        "id": "QcEFLN7v47GO",
        "outputId": "64a7dcd8-3b9e-4027-b5e8-f36712a342ae"
      },
      "execution_count": 7,
      "outputs": [
        {
          "output_type": "stream",
          "name": "stdout",
          "text": [
            "(<class '__main__.C'>, <class '__main__.B'>, <class '__main__.A'>, <class 'object'>)\n"
          ]
        }
      ]
    },
    {
      "cell_type": "code",
      "source": [
        "#8 Create an abstract base class Shape with an abstract method area(). Then create two subclasses Circle and Rectangle that implement the area() method.\n",
        "from abc import ABC, abstractmethod\n",
        "import math\n",
        "\n",
        "class Shape(ABC):\n",
        "    @abstractmethod\n",
        "    def area(self):\n",
        "        pass\n",
        "\n",
        "class Circle(Shape):\n",
        "    def __init__(self, radius):\n",
        "        self.radius = radius\n",
        "\n",
        "    def area(self):\n",
        "        return math.pi * self.radius ** 2\n",
        "\n",
        "class Rectangle(Shape):\n",
        "    def __init__(self, width, height):\n",
        "        self.width = width\n",
        "        self.height = height\n",
        "\n",
        "    def area(self):\n",
        "        return self.width * self.height\n",
        "\n",
        "\n",
        "circle = Circle(5)\n",
        "rectangle = Rectangle(4, 6)\n",
        "print(circle.area())\n",
        "print(rectangle.area())\n"
      ],
      "metadata": {
        "colab": {
          "base_uri": "https://localhost:8080/"
        },
        "id": "dWyfBEIo5M_n",
        "outputId": "75ba4931-2c02-4faa-fb8c-db48ac04572f"
      },
      "execution_count": 8,
      "outputs": [
        {
          "output_type": "stream",
          "name": "stdout",
          "text": [
            "78.53981633974483\n",
            "24\n"
          ]
        }
      ]
    },
    {
      "cell_type": "code",
      "source": [
        "#9 Demonstrate polymorphism by creating a function that can work with different shape objects to calculate and print their areas.\n",
        "\n",
        "def print_area(shape):\n",
        "    print(f\"The area is: {shape.area()}\")\n",
        "\n",
        "\n",
        "print_area(Circle(5))\n",
        "print_area(Rectangle(4, 6))\n"
      ],
      "metadata": {
        "colab": {
          "base_uri": "https://localhost:8080/"
        },
        "id": "esvaXfG15SY_",
        "outputId": "b9e9c365-c293-445f-81c3-e6b95647f796"
      },
      "execution_count": 9,
      "outputs": [
        {
          "output_type": "stream",
          "name": "stdout",
          "text": [
            "The area is: 78.53981633974483\n",
            "The area is: 24\n"
          ]
        }
      ]
    },
    {
      "cell_type": "code",
      "source": [
        "#10 Implement encapsulation in a BankAccount class with private attributes for balance and account_number. Include methods for deposit, withdrawal, and balance inquiry.\n",
        "class BankAccount:\n",
        "    def __init__(self, account_number, balance=0):\n",
        "        self.__account_number = account_number\n",
        "        self.__balance = balance\n",
        "\n",
        "    def deposit(self, amount):\n",
        "        if amount > 0:\n",
        "            self.__balance += amount\n",
        "\n",
        "    def withdraw(self, amount):\n",
        "        if amount > 0 and amount <= self.__balance:\n",
        "            self.__balance -= amount\n",
        "\n",
        "    def get_balance(self):\n",
        "        return self.__balance\n",
        "\n",
        "\n",
        "account = BankAccount(\"123456\")\n",
        "account.deposit(1000)\n",
        "account.withdraw(500)\n",
        "print(account.get_balance())\n"
      ],
      "metadata": {
        "colab": {
          "base_uri": "https://localhost:8080/"
        },
        "id": "ic3rtxN35aOo",
        "outputId": "93bda9f6-9502-47b5-80c7-be20e2177c63"
      },
      "execution_count": 10,
      "outputs": [
        {
          "output_type": "stream",
          "name": "stdout",
          "text": [
            "500\n"
          ]
        }
      ]
    },
    {
      "cell_type": "code",
      "source": [
        "#11 Write a class that overrides the __str__ and __add__ magic methods. What will these methods allow you to do?\n",
        "'''\n",
        " -Ans:\n",
        "      The __str__ method allows the class to define how it should be printed, and __add__ allows for the use of the + operator.\n",
        "'''\n",
        "class Vector:\n",
        "    def __init__(self, x, y):\n",
        "        self.x = x\n",
        "        self.y = y\n",
        "\n",
        "    def __str__(self):\n",
        "        return f\"Vector({self.x}, {self.y})\"\n",
        "\n",
        "    def __add__(self, other):\n",
        "        return Vector(self.x + other.x, self.y + other.y)\n",
        "\n",
        "\n",
        "v1 = Vector(1, 2)\n",
        "v2 = Vector(3, 4)\n",
        "print(v1)\n",
        "print(v1 + v2)\n"
      ],
      "metadata": {
        "colab": {
          "base_uri": "https://localhost:8080/"
        },
        "id": "Lhi5GA8Q5jlY",
        "outputId": "a1bd392a-9227-44dc-cdb6-33c947eaec65"
      },
      "execution_count": 11,
      "outputs": [
        {
          "output_type": "stream",
          "name": "stdout",
          "text": [
            "Vector(1, 2)\n",
            "Vector(4, 6)\n"
          ]
        }
      ]
    },
    {
      "cell_type": "code",
      "source": [
        "#12 Create a decorator that measures and prints the execution time of a function.\n",
        "import time\n",
        "\n",
        "def execution_time_decorator(func):\n",
        "    def wrapper(*args, **kwargs):\n",
        "        start_time = time.time()\n",
        "        result = func(*args, **kwargs)\n",
        "        end_time = time.time()\n",
        "        print(f\"Execution time: {end_time - start_time} seconds\")\n",
        "        return result\n",
        "    return wrapper\n",
        "\n",
        "@execution_time_decorator\n",
        "def example_function():\n",
        "    time.sleep(1)\n",
        "\n",
        "example_function()\n"
      ],
      "metadata": {
        "colab": {
          "base_uri": "https://localhost:8080/"
        },
        "id": "hAZNzLvq5wCt",
        "outputId": "6e634cb5-085b-4bbc-8b77-353826f52fe0"
      },
      "execution_count": 12,
      "outputs": [
        {
          "output_type": "stream",
          "name": "stdout",
          "text": [
            "Execution time: 1.0011012554168701 seconds\n"
          ]
        }
      ]
    },
    {
      "cell_type": "code",
      "source": [
        "#13 Explain the concept of the Diamond Problem in multiple inheritance. How does Python resolve it?\n",
        "\n",
        "'''\n",
        "-Ans:\n",
        "       The Diamond Problem occurs in multiple inheritance when a class inherits from two classes that share a common base class.\n",
        "        This leads to ambiguity in the method resolution. Python resolves it using MRO (Method Resolution Order).\n",
        "'''"
      ],
      "metadata": {
        "id": "CodHldpf507T"
      },
      "execution_count": null,
      "outputs": []
    },
    {
      "cell_type": "code",
      "source": [
        "#14 Write a class method that keeps track of the number of instances created from a class.\n",
        "class Counter:\n",
        "    instance_count = 0\n",
        "\n",
        "    def __init__(self):\n",
        "        Counter.instance_count += 1\n",
        "\n",
        "    @classmethod\n",
        "    def get_instance_count(cls):\n",
        "        return cls.instance_count\n",
        "\n",
        "\n",
        "c1 = Counter()\n",
        "c2 = Counter()\n",
        "print(Counter.get_instance_count())\n"
      ],
      "metadata": {
        "colab": {
          "base_uri": "https://localhost:8080/"
        },
        "id": "jr-jZ2VF5_HM",
        "outputId": "91a2a9f7-004b-48a6-b67f-60b6958812a0"
      },
      "execution_count": 13,
      "outputs": [
        {
          "output_type": "stream",
          "name": "stdout",
          "text": [
            "2\n"
          ]
        }
      ]
    },
    {
      "cell_type": "code",
      "source": [
        "#15 Implement a static method in a class that checks if a given year is a leap year\n",
        "class Calendar:\n",
        "    @staticmethod\n",
        "    def is_leap_year(year):\n",
        "        if (year % 4 == 0 and year % 100 != 0) or (year % 400 == 0):\n",
        "            return True\n",
        "        else:\n",
        "            return False\n",
        "\n",
        "\n",
        "print(Calendar.is_leap_year(2020))\n",
        "print(Calendar.is_leap_year(1900))\n"
      ],
      "metadata": {
        "colab": {
          "base_uri": "https://localhost:8080/"
        },
        "id": "OlIB3LKV6DbY",
        "outputId": "d884d615-e5de-4dff-b6c2-da26d9c6d8f4"
      },
      "execution_count": 15,
      "outputs": [
        {
          "output_type": "stream",
          "name": "stdout",
          "text": [
            "True\n",
            "False\n"
          ]
        }
      ]
    }
  ]
}